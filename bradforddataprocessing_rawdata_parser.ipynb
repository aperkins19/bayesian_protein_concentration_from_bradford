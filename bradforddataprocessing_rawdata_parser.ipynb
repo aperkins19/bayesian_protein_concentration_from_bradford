{
 "cells": [
  {
   "cell_type": "markdown",
   "metadata": {},
   "source": [
    "# Documentation\n",
    "<br>\n",
    "This notebook is the first step in a workflow that deals with Bradford Protein Quantification 96x well plate reader data:\n",
    "\n",
    "1. Exploratory data analysis.\n",
    "2. Cleaning the data to remove absorbance values that are outside the linear range of the instrument\n",
    "3. Parsing and exporting both the calibrant and sample data into the processed_data_files directory preparatory to downstream analysis\n",
    "\n",
    "Alex Perkins 16th November 2021\n",
    "a.j.p.perkins@sms.ed.ac.uk"
   ]
  },
  {
   "cell_type": "markdown",
   "metadata": {},
   "source": [
    "### Environment Preparation ---------------------------------------------------------------"
   ]
  },
  {
   "cell_type": "markdown",
   "metadata": {},
   "source": [
    "### Import Packages"
   ]
  },
  {
   "cell_type": "code",
   "execution_count": 1,
   "metadata": {
    "tags": []
   },
   "outputs": [
    {
     "name": "stderr",
     "output_type": "stream",
     "text": [
      "WARNING (theano.tensor.blas): Using NumPy C-API based implementation for BLAS functions.\n"
     ]
    },
    {
     "name": "stdout",
     "output_type": "stream",
     "text": [
      "Running on PyMC3 v3.11.4\n"
     ]
    }
   ],
   "source": [
    "import pandas as pd\n",
    "import numpy as np\n",
    "#import seaborn as sns\n",
    "import matplotlib.pyplot as plt\n",
    "import matplotlib.lines as mlines\n",
    "import pymc3 as pm\n",
    "from pymc3 import HalfCauchy, Model, Normal, glm, plot_posterior_predictive_glm, sample\n",
    "\n",
    "print(f\"Running on PyMC3 v{pm.__version__}\")\n",
    "\n",
    "import arviz as az\n",
    "from scipy.stats import norm\n",
    "\n",
    "# Import curve fitting package from scipy\n",
    "from sklearn.linear_model import LinearRegression\n",
    "\n",
    "# import os\n",
    "import os, sys, shutil\n",
    "\n",
    "%matplotlib inline"
   ]
  },
  {
   "cell_type": "markdown",
   "metadata": {},
   "source": [
    "### This cell just deals with reading the data file in the directory"
   ]
  },
  {
   "cell_type": "code",
   "execution_count": 2,
   "metadata": {
    "tags": []
   },
   "outputs": [
    {
     "name": "stdout",
     "output_type": "stream",
     "text": [
      "['2021_12_08_standard_curve_opp1_first_run_raw.CSV']\n",
      "/src\n"
     ]
    }
   ],
   "source": [
    "##################################################################\n",
    "\n",
    "move_file = False\n",
    "\n",
    "##################################################################\n",
    "# define error handler\n",
    "class UnAcceptedValueError(Exception):   \n",
    "    def __init__(self, data):    \n",
    "        self.data = data\n",
    "    def __str__(self):\n",
    "        return repr(self.data)\n",
    "\n",
    "####################################################################\n",
    "# gets all items in directory\n",
    "items = os.listdir(\".\")\n",
    "\n",
    "# lists all .csv\n",
    "csv_list = []\n",
    "for names in items:\n",
    "    if names.endswith(\".CSV\"):\n",
    "        csv_list.append(names)\n",
    "print(csv_list)\n",
    "try:\n",
    "    if(len(csv_list) > 1):\n",
    "        raise UnAcceptedValueError(\"More than 1x .CSV file in the directory\");\n",
    "except UnAcceptedValueError as e:\n",
    "    print (\"Received error:\", e.data)\n",
    "    # kills the process\n",
    "    quit()\n",
    "##########################################################################################\n",
    "#import dataset as dataframe\n",
    "raw_data = pd.read_csv(csv_list[0], header=None)\n",
    "\n",
    "date= raw_data.iloc[1,1]\n",
    "\n",
    "data = raw_data.iloc[6:,:]\n",
    "data = data.reset_index(drop=True)\n",
    "\n",
    "\n",
    "calibrants = data.iloc[48:72,[2]]\n",
    "\n",
    "#######################################################################\n",
    "\n",
    "print(os.getcwd())\n",
    "path = \"/src/output/\"\n",
    "# make directory for sticking the output in\n",
    "if os.path.isdir(path) == False:\n",
    "    os.mkdir(path, mode=0o777)\n",
    "    \n",
    "    \n",
    "# now that the dataset has been read in, move it into the output file for neatness.\n",
    "if 1 == move_file:\n",
    "    shutil.move(csv_list[0], path)\n",
    "\n",
    "# navigate into the directory for future plot storage\n",
    "os.chdir(path)"
   ]
  },
  {
   "cell_type": "markdown",
   "metadata": {},
   "source": [
    "### End of Enviroment Setup ---------------------------------------------------------------------------"
   ]
  },
  {
   "cell_type": "code",
   "execution_count": 3,
   "metadata": {},
   "outputs": [],
   "source": [
    "#  define limits for linear range of platereader\n",
    "upper_limit = 0.75\n",
    "lower_limit = 0.45\n"
   ]
  },
  {
   "cell_type": "markdown",
   "metadata": {},
   "source": [
    "# Looking at the raw calibrant data"
   ]
  },
  {
   "cell_type": "markdown",
   "metadata": {},
   "source": [
    "## Step 1: Looking at the raw values"
   ]
  },
  {
   "cell_type": "code",
   "execution_count": 4,
   "metadata": {},
   "outputs": [
    {
     "data": {
      "image/png": "[encoded data removed]",
      "text/plain": [
       "<Figure size 432x288 with 2 Axes>"
      ]
     },
     "metadata": {},
     "output_type": "display_data"
    }
   ],
   "source": [
    "# reshape\n",
    "calibrants = calibrants.astype(float)\n",
    "calibrants_np = calibrants.to_numpy()\n",
    "\n",
    "replicates = 3\n",
    "\n",
    "# real concs in wells. Stocks in ug/ml diluted by 20x\n",
    "calibrant_range = [\"0\",\"50\",\"75\",\"100\", \"125\", \"150\", \"175\",\"200\"]\n",
    "\n",
    "calibrants_np_2d = np.reshape(calibrants_np, (int(len(calibrants_np)/replicates), replicates))\n",
    "\n",
    "import seaborn as sns\n",
    "\n",
    "sns.set()\n",
    "ax1 = sns.heatmap(calibrants_np_2d, vmin = lower_limit, vmax = upper_limit, annot=True, cmap=\"coolwarm\")\n",
    "ax1.set_ylabel(\"BSA ug/Ml\")\n",
    "ax1.set_title(\"Calibrant Raw Absorbances.\")\n",
    "ax1.set_xlabel(\"Replicate #\")\n",
    "plt.yticks(np.arange(8)+0.5,calibrant_range, rotation=0, fontsize=\"10\")\n",
    "\n",
    "plt.savefig(\"BSA_absorbances_heat.png\")\n",
    "\n",
    "plt.show()"
   ]
  },
  {
   "cell_type": "markdown",
   "metadata": {},
   "source": [
    "## Step 2: Reorganising Calibrant Data"
   ]
  },
  {
   "cell_type": "code",
   "execution_count": 5,
   "metadata": {},
   "outputs": [],
   "source": [
    "# segregate the calibrant samples.\n",
    "calibrants_df = pd.DataFrame(calibrants_np_2d, columns=[\"Rep1\", \"Rep2\", \"Rep3\"], index=calibrant_range)"
   ]
  },
  {
   "cell_type": "code",
   "execution_count": 6,
   "metadata": {},
   "outputs": [
    {
     "name": "stderr",
     "output_type": "stream",
     "text": [
      "*c* argument looks like a single numeric RGB or RGBA sequence, which should be avoided as value-mapping will have precedence in case its length matches with *x* & *y*.  Please use the *color* keyword-argument or provide a 2D array with a single row if you intend to specify the same RGB or RGBA value for all points.\n"
     ]
    },
    {
     "name": "stdout",
     "output_type": "stream",
     "text": [
      "    Concentration  Absorbance\n",
      "0             0.0       0.360\n",
      "1             0.0       0.361\n",
      "2             0.0       0.362\n",
      "3            50.0       0.442\n",
      "4            50.0       0.445\n",
      "5            50.0       0.441\n",
      "6            75.0       0.454\n",
      "7            75.0       0.476\n",
      "8            75.0       0.472\n",
      "9           100.0       0.490\n",
      "10          100.0       0.488\n",
      "11          100.0       0.509\n",
      "12          125.0       0.607\n",
      "13          125.0       0.612\n",
      "14          125.0       0.636\n",
      "15          150.0       0.565\n",
      "16          150.0       0.806\n",
      "17          150.0       0.590\n",
      "18          175.0       0.613\n",
      "19          175.0       0.585\n",
      "20          175.0       0.594\n",
      "21          200.0       0.663\n",
      "22          200.0       0.640\n",
      "23          200.0       0.712\n"
     ]
    },
    {
     "data": {
      "image/png": "[encoded data removed]",
      "text/plain": [
       "<Figure size 432x288 with 1 Axes>"
      ]
     },
     "metadata": {},
     "output_type": "display_data"
    }
   ],
   "source": [
    "# define the function to use it later\n",
    "def reorg_calibrants_for_GLM(input_data):\n",
    "    output_for_glm = pd.DataFrame(columns=['Concentration', 'Absorbance'])\n",
    "    for idx, row in input_data.iterrows():\n",
    "\n",
    "\n",
    "        r_list = [row['Rep1'],row['Rep2'],row['Rep3']]\n",
    "\n",
    "        place_holder_df = pd.DataFrame()\n",
    "\n",
    "        place_holder_df['Absorbance'] = r_list\n",
    "        place_holder_df['Concentration'] = np.float(idx)\n",
    "\n",
    "        output_for_glm = output_for_glm.append(place_holder_df)\n",
    "\n",
    "    output_for_glm =output_for_glm.reset_index(drop=True)\n",
    "    print(output_for_glm)\n",
    "\n",
    "    output_for_glm.plot.scatter(x='Absorbance', y='Concentration')\n",
    "    \n",
    "    return output_for_glm\n",
    "\n",
    "calibrants_for_GP = reorg_calibrants_for_GLM(calibrants_df)"
   ]
  },
  {
   "cell_type": "markdown",
   "metadata": {},
   "source": [
    "## Step 3: Filter the calibrants and only keep those within the linear range  (0.75 - 0.45)"
   ]
  },
  {
   "cell_type": "code",
   "execution_count": 7,
   "metadata": {},
   "outputs": [
    {
     "name": "stdout",
     "output_type": "stream",
     "text": [
      "    Concentration  Absorbance\n",
      "0            75.0       0.454\n",
      "1            75.0       0.476\n",
      "2            75.0       0.472\n",
      "3           100.0       0.490\n",
      "4           100.0       0.488\n",
      "5           100.0       0.509\n",
      "6           125.0       0.607\n",
      "7           125.0       0.612\n",
      "8           125.0       0.636\n",
      "9           150.0       0.565\n",
      "10          150.0       0.590\n",
      "11          175.0       0.613\n",
      "12          175.0       0.585\n",
      "13          175.0       0.594\n",
      "14          200.0       0.663\n",
      "15          200.0       0.640\n",
      "16          200.0       0.712\n"
     ]
    }
   ],
   "source": [
    "##################   Subset Standards aborbance values that fall within the linear range (0.75 - 0.45)\n",
    "\n",
    "calibrants_for_GP = calibrants_for_GP.loc[(calibrants_for_GP[\"Absorbance\"] >= lower_limit) & (calibrants_for_GP[\"Absorbance\"] <= upper_limit)]\n",
    "calibrants_for_GP = calibrants_for_GP.reset_index(drop=True)\n",
    "print(calibrants_for_GP)"
   ]
  },
  {
   "cell_type": "markdown",
   "metadata": {},
   "source": [
    "## Step: 4 Defining the absorbance of each concentration as a gaussian.\n",
    "\n",
    "This allows us to store the mean concentration and it's error as a function and calculate the probabilities on demand.\n",
    "\n",
    "Lets assume that the technical error of the absorbance measurements are normally distributed\n",
    "\n",
    "1. We calculate the mean and the standard deviation for each absorbance triplicate.\n",
    "2. We define a gaussian sampling function so we can easily sample and return a granular array."
   ]
  },
  {
   "cell_type": "code",
   "execution_count": 8,
   "metadata": {},
   "outputs": [],
   "source": [
    "\n",
    "\n",
    "# calculate the mean of each triplicate\n",
    "calibrants_df[\"Mean\"] = calibrants_df.mean(axis=1)\n",
    "# calculate the variance of each triplicate\n",
    "calibrants_df[\"σ\"] = calibrants_df.iloc[:,:3].std(axis=1)\n",
    "\n",
    "calibrants_df_avg = calibrants_df[[\"Mean\", \"σ\"]]\n",
    "\n",
    "\n",
    "def sample_gaussian(mu, sigma):\n",
    "    \n",
    "    # define the x range: mean - 4*sigma and mean + 4*sigma. increments = mean/1000\n",
    "    x = np.arange((mu-(4*sigma)),(mu+(4*sigma)), mu/1000)\n",
    "    \n",
    "    # use the norm.pdf (probability density function) to sample and return the array.\n",
    "    return norm.pdf(x, mu, sigma)\n",
    "\n",
    "# do it for each calibrant. Not currently stored.\n",
    "for idx, row in calibrants_df_avg.iterrows():\n",
    "    sample_gaussian(calibrants_df.loc[idx][\"Mean\"], calibrants_df.loc[idx][\"σ\"])\n"
   ]
  },
  {
   "cell_type": "markdown",
   "metadata": {},
   "source": [
    "Having got our function, lets plot all the gaussians together and have a wee look."
   ]
  },
  {
   "cell_type": "code",
   "execution_count": 9,
   "metadata": {},
   "outputs": [
    {
     "data": {
      "image/png": "[encoded data removed]",
      "text/plain": [
       "<Figure size 432x288 with 1 Axes>"
      ]
     },
     "metadata": {},
     "output_type": "display_data"
    }
   ],
   "source": [
    "def print_all_gaussians(mu, sigma, bins, index):\n",
    "    \n",
    "    # define the x range: mean - 4*sigma and mean + 4*sigma. increments = mean/1000\n",
    "    x = np.arange((mu-(4*sigma)),(mu+(4*sigma)), mu/1000)\n",
    "    \n",
    "    # plot the function\n",
    "    plt.plot(x, norm.pdf(x, mu, sigma),  label=str(idx))\n",
    "    \n",
    "\n",
    "# do it for every calibrant and produce the plot afterwards\n",
    "for idx, row in calibrants_df.iterrows():\n",
    "    print_all_gaussians(calibrants_df.loc[idx][\"Mean\"], calibrants_df.loc[idx][\"σ\"], 10000, idx)\n",
    "\n",
    "# just setting the labels and ticks\n",
    "plt.tick_params(left=False,\n",
    "                bottom=False,\n",
    "                labelleft=False,\n",
    "                labelbottom=True)\n",
    "\n",
    "plt.title('Calibrant Absorbance Probability Functions')\n",
    "plt.xticks(rotation=90)\n",
    "plt.xlabel('Arbitary Absorbance Units')\n",
    "\n",
    "plt.legend(title='μg/ml', loc=(1.03, 0.3))\n",
    "\n",
    "plt.savefig('Calibrant Absorbance Probabilty Functions.png')"
   ]
  },
  {
   "cell_type": "markdown",
   "metadata": {},
   "source": [
    "# Sample Data"
   ]
  },
  {
   "cell_type": "markdown",
   "metadata": {},
   "source": [
    "# Step 1: Looking at the raw sample data"
   ]
  },
  {
   "cell_type": "code",
   "execution_count": 10,
   "metadata": {},
   "outputs": [
    {
     "name": "stdout",
     "output_type": "stream",
     "text": [
      "24\n"
     ]
    },
    {
     "data": {
      "image/png": "[encoded data removed]",
      "text/plain": [
       "<Figure size 432x288 with 2 Axes>"
      ]
     },
     "metadata": {},
     "output_type": "display_data"
    }
   ],
   "source": [
    "# samples mean & sem\n",
    "sample_data = data.iloc[24:48,2].astype(float)\n",
    "print(len(sample_data))\n",
    "\n",
    "sample_data = sample_data.values\n",
    "sample_data = sample_data.reshape((int(len(sample_data)/replicates), replicates))\n",
    "\n",
    "sample_list =[\"50x\",\"100x\",\"250x\", \"400x\", \"500x\",\"600x\",\"750x\",\"1000x\"]\n",
    "\n",
    "sample_data = pd.DataFrame(sample_data, columns=[\"Rep1\", \"Rep2\", \"Rep3\"], index = sample_list)\n",
    "\n",
    "\n",
    "\n",
    "\n",
    "sns.set()\n",
    "\n",
    "\n",
    "sns.heatmap(sample_data, vmin = lower_limit, vmax = upper_limit, annot=True, cmap=\"coolwarm\")\n",
    "\n",
    "\n",
    "\n",
    "plt.ylabel(\"Dilution Factor\")\n",
    "plt.title(\"Absorbances of Diluted samples\")\n",
    "plt.xlabel(\"Replicate #\")\n",
    "plt.yticks(np.arange(sample_data.shape[0])+0.5, sample_list, rotation=0, fontsize=\"10\")\n",
    "plt.savefig(\"Sample_Absorbances_heat.png\")\n",
    "\n"
   ]
  },
  {
   "cell_type": "markdown",
   "metadata": {},
   "source": [
    "## Step 2: Reorganising Sample Data"
   ]
  },
  {
   "cell_type": "code",
   "execution_count": 11,
   "metadata": {},
   "outputs": [
    {
     "name": "stderr",
     "output_type": "stream",
     "text": [
      "*c* argument looks like a single numeric RGB or RGBA sequence, which should be avoided as value-mapping will have precedence in case its length matches with *x* & *y*.  Please use the *color* keyword-argument or provide a 2D array with a single row if you intend to specify the same RGB or RGBA value for all points.\n"
     ]
    },
    {
     "name": "stdout",
     "output_type": "stream",
     "text": [
      "   Dilution  Absorbance\n",
      "0        50       0.714\n",
      "1        50       0.838\n",
      "2        50       0.810\n",
      "3       100       0.484\n",
      "4       100       0.471\n",
      "5       100       0.506\n",
      "6       250       0.475\n",
      "7       250       0.454\n",
      "8       250       0.451\n",
      "9       400       0.391\n",
      "10      400       0.379\n",
      "11      400       0.386\n",
      "12      500       0.379\n",
      "13      500       0.377\n",
      "14      500       0.373\n",
      "15      600       0.373\n",
      "16      600       0.373\n",
      "17      600       0.406\n",
      "18      750       0.372\n",
      "19      750       0.371\n",
      "20      750       0.383\n",
      "21     1000       0.381\n",
      "22     1000       0.379\n",
      "23     1000       0.380\n"
     ]
    },
    {
     "data": {
      "image/png": "[encoded data removed]",
      "text/plain": [
       "<Figure size 432x288 with 1 Axes>"
      ]
     },
     "metadata": {},
     "output_type": "display_data"
    }
   ],
   "source": [
    "# define the function to use it later\n",
    "def reorg_data_for_GLM(input_data):\n",
    "    output_for_glm = pd.DataFrame(columns=['Dilution', 'Absorbance'])\n",
    "    for idx, row in input_data.iterrows():\n",
    "\n",
    "\n",
    "        r_list = [row['Rep1'],row['Rep2'],row['Rep3']]\n",
    "\n",
    "        place_holder_df = pd.DataFrame()\n",
    "\n",
    "        place_holder_df['Absorbance'] = r_list\n",
    "        \n",
    "        # chop off the 'x'\n",
    "        idx_minus1 = idx[:-1]\n",
    "        place_holder_df['Dilution'] = idx_minus1     \n",
    "\n",
    "        output_for_glm = output_for_glm.append(place_holder_df)\n",
    "\n",
    "    output_for_glm =output_for_glm.reset_index(drop=True)\n",
    "    print(output_for_glm)\n",
    "\n",
    "    output_for_glm.plot.scatter(x='Absorbance', y='Dilution')\n",
    "    \n",
    "    return output_for_glm\n",
    "\n",
    "data_for_GP = reorg_data_for_GLM(sample_data)"
   ]
  },
  {
   "cell_type": "markdown",
   "metadata": {},
   "source": [
    "## Step 3:  Filter the sample data and only keep those within the linear range  (0.75 - 0.45)"
   ]
  },
  {
   "cell_type": "code",
   "execution_count": 12,
   "metadata": {},
   "outputs": [
    {
     "name": "stdout",
     "output_type": "stream",
     "text": [
      "  Dilution  Absorbance\n",
      "0       50       0.714\n",
      "1      100       0.484\n",
      "2      100       0.471\n",
      "3      100       0.506\n",
      "4      250       0.475\n",
      "5      250       0.454\n",
      "6      250       0.451\n"
     ]
    }
   ],
   "source": [
    "##################   Subset Standards aborbance values that fall within the linear range (0.75 - 0.45)\n",
    "\n",
    "acceptable_data = data_for_GP.loc[(data_for_GP[\"Absorbance\"] >= lower_limit) & (data_for_GP[\"Absorbance\"] <= upper_limit)]\n",
    "acceptable_data = acceptable_data.reset_index(drop=True)\n",
    "print(acceptable_data)"
   ]
  },
  {
   "cell_type": "markdown",
   "metadata": {},
   "source": [
    "# Exporting the parsed calibrant and sample data"
   ]
  },
  {
   "cell_type": "markdown",
   "metadata": {},
   "source": [
    "## Step 1: Check if '/processed_data_files' exists. If not, create it and navigate inside."
   ]
  },
  {
   "cell_type": "code",
   "execution_count": 13,
   "metadata": {},
   "outputs": [
    {
     "name": "stdout",
     "output_type": "stream",
     "text": [
      "/src/output\n"
     ]
    }
   ],
   "source": [
    "print(os.getcwd())\n",
    "path_processed_data = \"/src/processed_data_files/\"\n",
    "# make directory for sticking the processed data in\n",
    "if os.path.isdir(path_processed_data) == False:\n",
    "    os.mkdir(path_processed_data, mode=0o777)\n",
    "\n",
    "# navigate into the path_processed_data directory for data storage\n",
    "os.chdir(path_processed_data)"
   ]
  },
  {
   "cell_type": "markdown",
   "metadata": {},
   "source": [
    "## Step 2: Export both calibrant and sample data into processed_data_files as CSV files."
   ]
  },
  {
   "cell_type": "code",
   "execution_count": 14,
   "metadata": {},
   "outputs": [],
   "source": [
    "calibrants_for_GP.to_csv(\"parsed_calibrant_data.csv\")\n",
    "acceptable_data.to_csv(\"parsed_sample_data.csv\")"
   ]
  },
  {
   "cell_type": "code",
   "execution_count": 15,
   "metadata": {},
   "outputs": [],
   "source": [
    "# navigate back into the root directory for neatness\n",
    "os.chdir(\"/src/\")"
   ]
  }
 ],
 "metadata": {
  "interpreter": {
   "hash": "4cd7ab41f5fca4b9b44701077e38c5ffd31fe66a6cab21e0214b68d958d0e462"
  },
  "kernelspec": {
   "display_name": "Python 3 (ipykernel)",
   "language": "python",
   "name": "python3"
  },
  "language_info": {
   "codemirror_mode": {
    "name": "ipython",
    "version": 3
   },
   "file_extension": ".py",
   "mimetype": "text/x-python",
   "name": "python",
   "nbconvert_exporter": "python",
   "pygments_lexer": "ipython3",
   "version": "3.8.10"
  }
 },
 "nbformat": 4,
 "nbformat_minor": 2
}
